{
 "cells": [
  {
   "cell_type": "markdown",
   "metadata": {},
   "source": [
    "# 4.モジュールとオブジェクト指向"
   ]
  },
  {
   "cell_type": "markdown",
   "metadata": {},
   "source": [
    "## モジュール"
   ]
  },
  {
   "cell_type": "code",
   "execution_count": null,
   "metadata": {},
   "outputs": [],
   "source": [
    "# 換字暗号ふただび(大文字バージョン)\n",
    "\n",
    "# 換字テーブル\n",
    "t = ['I', 'W', 'P', 'Q', 'C', 'L', 'D', 'A', 'Z', 'V', 'E', 'U', 'O', 'Y', 'J', 'B', 'H', 'T', 'K', 'N', 'R', 'X', 'F', 'G', 'M', 'S']\n",
    "\n",
    "# ある文字列が換え字テーブルの何番目かを調べる関数を作る\n",
    "def index(t, s):   # tは換字テーブル，sは調べる文字\n",
    "    for i in range(0, 26):\n",
    "        if s == t[i]:\n",
    "            return i\n",
    "        \n",
    "# 換字テーブルを使って文字列を暗号化する関数\n",
    "def encrypt_ssc(p, t): # pは平文の文字列，tは換字テーブル\n",
    "    e = \"\" # 暗号文を初期化\n",
    "    for i in p:  # 平文でループ\n",
    "        n = ord(i)-65   # Aからの順番を計算\n",
    "        e = e+t[n]  # 対応表を使って置き換え\n",
    "    return e\n",
    "\n",
    "\n",
    "# 換字テーブルを使って暗号文を復号化する関数\n",
    "def decrypt_ssc(e, t): # eは暗号文の文字列，tは換字テーブル\n",
    "    # 単一換字暗号で復号化する関数\n",
    "    p = \"\" # 復号化する平文を初期化\n",
    "    for i in e:  # 暗号文でループ\n",
    "        n = index(t, i)  # 対応表のインデックスに変換\n",
    "        p = p+chr(n+65)  # 文字を復号化\n",
    "    return p"
   ]
  },
  {
   "cell_type": "code",
   "execution_count": null,
   "metadata": {},
   "outputs": [],
   "source": [
    "encrypt_ssc(\"PYTHON\", t)"
   ]
  },
  {
   "cell_type": "code",
   "execution_count": null,
   "metadata": {},
   "outputs": [],
   "source": [
    "decrypt_ssc(\"BMNAJY\", t)"
   ]
  },
  {
   "cell_type": "code",
   "execution_count": null,
   "metadata": {},
   "outputs": [],
   "source": [
    "# 謎の「おまじない」を実行\n",
    "!pip install minbc_lib\n",
    "from minbc_lib.lfreq import *"
   ]
  },
  {
   "cell_type": "code",
   "execution_count": null,
   "metadata": {},
   "outputs": [],
   "source": [
    "# オバマ大統領の就任演説\n",
    "obama_speech = \"MYFELLOWCITIZENSISTANDHERETODAYHUMBLEDBYTHETASKBEFOREUSGRATEFULFORTHETRUSTYOUHAVEBESTOWEDMINDFULOFTHESACRIFICESBORNEBYOURANCESTORSITHANKPRESIDENTBUSHFORHISSERVICETOOURNATIONASWELLASTHEGENEROSITYANDCOOPERATIONHEHASSHOWNTHROUGHOUTTHISTRANSITIONFORTYFOURAMERICANSHAVENOWTAKENTHEPRESIDENTIALOATHTHEWORDSHAVEBEENSPOKENDURINGRISINGTIDESOFPROSPERITYANDTHESTILLWATERSOFPEACEYETEVERYSOOFTENTHEOATHISTAKENAMIDSTGATHERINGCLOUDSANDRAGINGSTORMSATTHESEMOMENTSAMERICAHASCARRIEDONNOTSIMPLYBECAUSEOFTHESKILLORVISIONOFTHOSEINHIGHOFFICEBUTBECAUSEWETHEPEOPLEHAVEREMAINEDFAITHFULTOTHEIDEALSOFOURFORBEARERSANDTRUETOOURFOUNDINGDOCUMENTSSOITHASBEENSOITMUSTBEWITHTHISGENERATIONOFAMERICANSTHATWEAREINTHEMIDSTOFCRISISISNOWWELLUNDERSTOODOURNATIONISATWARAGAINSTAFARREACHINGNETWORKOFVIOLENCEANDHATREDOURECONOMYISBADLYWEAKENEDACONSEQUENCEOFGREEDANDIRRESPONSIBILITYONTHEPARTOFSOMEBUTALSOOURCOLLECTIVEFAILURETOMAKEHARDCHOICESANDPREPARETHENATIONFORANEWAGEHOMESHAVEBEENLOSTJOBSSHEDBUSINESSESSHUTTEREDOURHEALTHCAREISTOOCOSTLYOURSCHOOLSFAILTOOMANYANDEACHDAYBRINGSFURTHEREVIDENCETHATTHEWAYSWEUSEENERGYSTRENGTHENOURADVERSARIESANDTHREATENOURPLANETTHESEARETHEINDICATORSOFCRISISSUBJECTTODATAANDSTATISTICSLESSMEASURABLEBUTNOLESSPROFOUNDISASAPPINGOFCONFIDENCEACROSSOURLANDANAGGINGFEARTHATAMERICASDECLINEISINEVITABLEANDTHATTHENEXTGENERATIONMUSTLOWERITSSIGHTS\""
   ]
  },
  {
   "cell_type": "code",
   "execution_count": null,
   "metadata": {},
   "outputs": [],
   "source": [
    "o_freq = calc_freq_table(obama_speech)  # 文字ごとに出現回数を調べる"
   ]
  },
  {
   "cell_type": "code",
   "execution_count": null,
   "metadata": {},
   "outputs": [],
   "source": [
    "show_freq_graph(o_freq)   # 出現頻度をグラフにして表示"
   ]
  },
  {
   "cell_type": "code",
   "execution_count": null,
   "metadata": {},
   "outputs": [],
   "source": [
    "show_freq_graph()   # 一般的なアルファベットの出現頻度をグラフにして表示"
   ]
  },
  {
   "cell_type": "code",
   "execution_count": null,
   "metadata": {},
   "outputs": [],
   "source": [
    "e = encrypt_ssc(obama_speech, t)"
   ]
  },
  {
   "cell_type": "code",
   "execution_count": null,
   "metadata": {},
   "outputs": [],
   "source": [
    "e"
   ]
  },
  {
   "cell_type": "code",
   "execution_count": null,
   "metadata": {},
   "outputs": [],
   "source": [
    "e_freq = calc_freq_table(e) # 暗号文の文字の出現頻度を計算\n",
    "show_freq_graph(e_freq)   # 出現頻度をグラフにして表示"
   ]
  },
  {
   "cell_type": "markdown",
   "metadata": {},
   "source": [
    "※スライドに戻ります"
   ]
  },
  {
   "cell_type": "markdown",
   "metadata": {},
   "source": [
    "## 日付の表現"
   ]
  },
  {
   "cell_type": "markdown",
   "metadata": {},
   "source": [
    "### 時間の表現"
   ]
  },
  {
   "cell_type": "code",
   "execution_count": null,
   "metadata": {},
   "outputs": [],
   "source": [
    "s = 24000  # 0時からの経過秒"
   ]
  },
  {
   "cell_type": "code",
   "execution_count": null,
   "metadata": {},
   "outputs": [],
   "source": [
    "m = s/60 % 60  # 分\n",
    "h = s/60/24      # 秒\n",
    "h, m"
   ]
  },
  {
   "cell_type": "code",
   "execution_count": null,
   "metadata": {},
   "outputs": [],
   "source": [
    "# 小数点が気持ち悪いなら\n",
    "m = int(s/60) % 60  # 分\n",
    "h = int(s/60/24)      # 秒\n",
    "print(h, m)"
   ]
  },
  {
   "cell_type": "markdown",
   "metadata": {},
   "source": [
    "### 日付の表現"
   ]
  },
  {
   "cell_type": "code",
   "execution_count": null,
   "metadata": {},
   "outputs": [],
   "source": [
    "# 日付は3つの数値で表現できる\n",
    "y = 2020   # 西暦\n",
    "m = 4        # 月\n",
    "d = 29       # 日"
   ]
  },
  {
   "cell_type": "code",
   "execution_count": null,
   "metadata": {},
   "outputs": [],
   "source": [
    "# 日数の計算\n",
    "# 一日後\n",
    "d = d + 1  # 日に1を足す\n",
    "y, m, d"
   ]
  },
  {
   "cell_type": "code",
   "execution_count": null,
   "metadata": {},
   "outputs": [],
   "source": [
    "# さらに一日後....?\n",
    "d = d + 1  # 日に1を足す\n",
    "y, m, d"
   ]
  },
  {
   "cell_type": "code",
   "execution_count": null,
   "metadata": {},
   "outputs": [],
   "source": [
    "# 一ヶ月の日数を考慮する必要がある\n",
    "# 一ヶ月の日数を得る関数をライブラリからインポート\n",
    "from calendar import monthrange "
   ]
  },
  {
   "cell_type": "code",
   "execution_count": null,
   "metadata": {},
   "outputs": [],
   "source": [
    "monthrange(2020, 4)"
   ]
  },
  {
   "cell_type": "code",
   "execution_count": null,
   "metadata": {},
   "outputs": [],
   "source": [
    "# 月の日数を考慮した翌日の計算プログラム\n",
    "y = 2020   # 西暦\n",
    "m = 4        # 月\n",
    "d = 30       # 日\n",
    "\n",
    "d = d+1\n",
    "mday = monthrange(y, m)\n",
    "if mday[1] < d:\n",
    "    # dが月の最終日を超えていたので，翌月の1日にする\n",
    "    m = m+1\n",
    "    d = 1\n",
    "    if m == 13:\n",
    "        # 13月は存在しないので，翌年の1月にする\n",
    "        m = 1\n",
    "        y = y + 1  # 年を増やす"
   ]
  },
  {
   "cell_type": "code",
   "execution_count": null,
   "metadata": {},
   "outputs": [],
   "source": [
    "y, m, d"
   ]
  },
  {
   "cell_type": "markdown",
   "metadata": {},
   "source": [
    "### 出来合いの部品を使う"
   ]
  },
  {
   "cell_type": "code",
   "execution_count": null,
   "metadata": {},
   "outputs": [],
   "source": [
    "from datetime import date, timedelta  # オブジェクト指向で日付を扱うクラスをインポート"
   ]
  },
  {
   "cell_type": "code",
   "execution_count": null,
   "metadata": {},
   "outputs": [],
   "source": [
    "# 今日の日付を得る\n",
    "t = date.today()  # dateクラスの「オブジェクト」を作る\n",
    "t   # 日時を表示"
   ]
  },
  {
   "cell_type": "code",
   "execution_count": null,
   "metadata": {},
   "outputs": [],
   "source": [
    "t.year, t.month, t.day"
   ]
  },
  {
   "cell_type": "code",
   "execution_count": null,
   "metadata": {},
   "outputs": [],
   "source": [
    "# 一日後を得るには足し算を使う\n",
    "o = timedelta(days=1)  # 一日に相当するオブジェクトを作る\n",
    "tw = t+o\n",
    "tw   # 明日の日付を表示"
   ]
  },
  {
   "cell_type": "code",
   "execution_count": null,
   "metadata": {},
   "outputs": [],
   "source": [
    "t2 = date(2020, 5, 31)   # 日付を指定してオブジェクトを作る\n",
    "tw2 = t2+o\n",
    "tw2"
   ]
  },
  {
   "cell_type": "code",
   "execution_count": null,
   "metadata": {},
   "outputs": [],
   "source": [
    "# 日付の差\n",
    "tw2 - tw"
   ]
  },
  {
   "cell_type": "markdown",
   "metadata": {},
   "source": [
    "※スライドに戻ります"
   ]
  },
  {
   "cell_type": "markdown",
   "metadata": {},
   "source": [
    "## 音声合成ライブラリを使う"
   ]
  },
  {
   "cell_type": "code",
   "execution_count": null,
   "metadata": {},
   "outputs": [],
   "source": [
    "!pip install gtts   # Googleの音声合成ライブラリ(gtts)をインストール"
   ]
  },
  {
   "cell_type": "code",
   "execution_count": null,
   "metadata": {},
   "outputs": [],
   "source": [
    "from gtts import gTTS  # gTTSクラスをインポート\n",
    "\n",
    "# gTTSオブジェクトを作る。\n",
    "\n",
    "tts = gTTS(text=\"今日の天気は晴れ，降水確率は40%です。\", lang=\"ja\")\n",
    "tts.save(\"wreport.mp3\")  # MP3ファイルを保存"
   ]
  },
  {
   "cell_type": "code",
   "execution_count": null,
   "metadata": {},
   "outputs": [],
   "source": [
    "# ブラウザ上で音声ファイルを再生する\n",
    "\n",
    "from IPython.display import Audio\n",
    "Audio(\"wreport.mp3\", autoplay=True) "
   ]
  },
  {
   "cell_type": "markdown",
   "metadata": {},
   "source": [
    "※スライドに戻ります"
   ]
  },
  {
   "cell_type": "code",
   "execution_count": null,
   "metadata": {},
   "outputs": [],
   "source": []
  }
 ],
 "metadata": {
  "kernelspec": {
   "display_name": "Python 3",
   "language": "python",
   "name": "python3"
  },
  "language_info": {
   "codemirror_mode": {
    "name": "ipython",
    "version": 3
   },
   "file_extension": ".py",
   "mimetype": "text/x-python",
   "name": "python",
   "nbconvert_exporter": "python",
   "pygments_lexer": "ipython3",
   "version": "3.7.3"
  }
 },
 "nbformat": 4,
 "nbformat_minor": 2
}
