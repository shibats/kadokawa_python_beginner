{
 "cells": [
  {
   "cell_type": "markdown",
   "metadata": {},
   "source": [
    "# 2. 離散"
   ]
  },
  {
   "cell_type": "markdown",
   "metadata": {},
   "source": [
    "## 2x2の対戦○×ゲームをプログラミングする\n",
    "\n",
    "コンピュータ(○)が先手，人間(×)が後手。人間の手にあわせて，コンピュータの次の手を数値で表現する。\n",
    "\n",
    "コンピュータ(○)が1をうった状態\n",
    "\n",
    "|○| (2)|\n",
    "|---|--|\n",
    "|(3)|(4)|\n",
    "\n",
    "人間は次に2から3まで打つとして，人間の手を参考に，\n",
    "\n",
    "次にどこに○を打てばコンピュータは勝てるかを考える。"
   ]
  },
  {
   "cell_type": "code",
   "execution_count": null,
   "metadata": {},
   "outputs": [],
   "source": [
    "phand = 2   # 人間が次に打つ手を数値にして変数に代入\n",
    "chand = 0   # 次にコンピュータが打つべき手をこの変数に代入する\n",
    "\n",
    "if phand == 2:\n",
    "    # 人間が2に手を打ったら\n",
    "    chand = 3 # または4\n",
    "\n",
    "print(chand)  # コンピュータがうつ手を表示する"
   ]
  },
  {
   "cell_type": "code",
   "execution_count": null,
   "metadata": {},
   "outputs": [],
   "source": [
    "phand = 3   # 人間が次に打つ手を数値にして変数に代入\n",
    "chand = 0   # 次にコンピュータが打つべき手をこの変数に代入する\n",
    "if phand == 2:\n",
    "    # 人間が2に手を打ったら\n",
    "    chand = 3 # または4\n",
    "if phand == 3:\n",
    "    # 人間が2に手を打ったら\n",
    "    chand = 2  # または4\n",
    "if phand == 4:\n",
    "    # 人間が2に手を打ったら\n",
    "    chand = 2  # または3\n",
    "\n",
    "print(chand)  # コンピュータがうつ手を表示する"
   ]
  },
  {
   "cell_type": "markdown",
   "metadata": {},
   "source": [
    "※スライドに戻ります"
   ]
  },
  {
   "cell_type": "markdown",
   "metadata": {},
   "source": [
    "## 文字"
   ]
  },
  {
   "cell_type": "code",
   "execution_count": null,
   "metadata": {},
   "outputs": [],
   "source": [
    "\"a\"        # 文字\n",
    "a = 10  # c.f. 変数"
   ]
  },
  {
   "cell_type": "code",
   "execution_count": null,
   "metadata": {},
   "outputs": [],
   "source": [
    "c = \"a\"  # 文字を変数に代入"
   ]
  },
  {
   "cell_type": "code",
   "execution_count": null,
   "metadata": {},
   "outputs": [],
   "source": [
    "ord(c)   # 関数を使って，文字に割り当てられた数値を計算する(変換)"
   ]
  },
  {
   "cell_type": "code",
   "execution_count": null,
   "metadata": {},
   "outputs": [],
   "source": [
    "c = \"b\"   # 数字はアルファベット順に並んでいる\n",
    "ord(c)"
   ]
  },
  {
   "cell_type": "code",
   "execution_count": null,
   "metadata": {},
   "outputs": [],
   "source": [
    "chr(98)   # 数値に割り当てられた文字を計算する(変換)"
   ]
  },
  {
   "cell_type": "markdown",
   "metadata": {},
   "source": [
    "※スライドに戻ります"
   ]
  },
  {
   "cell_type": "code",
   "execution_count": null,
   "metadata": {},
   "outputs": [],
   "source": []
  }
 ],
 "metadata": {
  "kernelspec": {
   "display_name": "Python 3",
   "language": "python",
   "name": "python3"
  },
  "language_info": {
   "codemirror_mode": {
    "name": "ipython",
    "version": 3
   },
   "file_extension": ".py",
   "mimetype": "text/x-python",
   "name": "python",
   "nbconvert_exporter": "python",
   "pygments_lexer": "ipython3",
   "version": "3.7.3"
  }
 },
 "nbformat": 4,
 "nbformat_minor": 2
}
