{
 "cells": [
  {
   "cell_type": "markdown",
   "metadata": {},
   "source": [
    "# 5.エクセルの自動化"
   ]
  },
  {
   "cell_type": "code",
   "execution_count": null,
   "metadata": {},
   "outputs": [],
   "source": [
    "# エクセルのファイルをPythonに読み込むためのライブラリをインストール\n",
    "!pip install openpyxl"
   ]
  },
  {
   "cell_type": "code",
   "execution_count": null,
   "metadata": {},
   "outputs": [],
   "source": [
    "# エクセルファイルを読み込み\n",
    "# (Colaboratoryを使っている都合上，ネットから読み込み)\n",
    "\n",
    "from urllib.request import urlopen\n",
    "from io import BytesIO\n",
    "from openpyxl import load_workbook\n",
    "\n",
    "r = urlopen('https://coreblog.org/static/kadokawa_python.xlsx')\n",
    "wb = load_workbook(filename=BytesIO(r.read()))\n",
    "\n",
    "# 本来なら，次のようにしてファイルから読み込む\n",
    "# wb = load_workbook(\"somefile.xlsx\")"
   ]
  },
  {
   "cell_type": "code",
   "execution_count": null,
   "metadata": {},
   "outputs": [],
   "source": [
    "wb  # エクセルファイルのデータが入ったオブジェクト"
   ]
  },
  {
   "cell_type": "code",
   "execution_count": null,
   "metadata": {},
   "outputs": [],
   "source": [
    "wb.sheetnames # シート名の一覧を表示"
   ]
  },
  {
   "cell_type": "code",
   "execution_count": null,
   "metadata": {},
   "outputs": [],
   "source": [
    "ws = wb.active  # シートを取得"
   ]
  },
  {
   "cell_type": "code",
   "execution_count": null,
   "metadata": {},
   "outputs": [],
   "source": [
    "ws[\"B1\":\"C7\"]  # セルのアドレスを指定してB,C列のシートを取得"
   ]
  },
  {
   "cell_type": "markdown",
   "metadata": {},
   "source": [
    "※スライドに戻ります"
   ]
  },
  {
   "cell_type": "code",
   "execution_count": null,
   "metadata": {},
   "outputs": [],
   "source": [
    "# ループを使ってB列のセルを取得，表示\n",
    "\n",
    "for c in ws[\"B3\":\"B7\"]:\n",
    "  for i in c:\n",
    "    print(i)"
   ]
  },
  {
   "cell_type": "code",
   "execution_count": null,
   "metadata": {},
   "outputs": [],
   "source": [
    "# セルの内容(数値)を表示\n",
    "\n",
    "for c in ws[\"B3\":\"B7\"]:\n",
    "  for i in c:\n",
    "    print(i.value)"
   ]
  },
  {
   "cell_type": "code",
   "execution_count": null,
   "metadata": {},
   "outputs": [],
   "source": [
    "# セルの内容(数値)をリストに追加\n",
    "bl = []   # セルの内容を追加するためのリスト\n",
    "for c in ws[\"B3\":\"B7\"]:\n",
    "  for i in c:\n",
    "    bl = bl +[i.value]\n",
    "\n",
    "bl  # 結果を表示"
   ]
  },
  {
   "cell_type": "code",
   "execution_count": null,
   "metadata": {},
   "outputs": [],
   "source": [
    "# 同様にC列のリストを作る\n",
    "cl = []   # セルの内容を追加するためのリスト\n",
    "for c in ws[\"C3\":\"C7\"]:\n",
    "  for i in c:\n",
    "    cl = cl +[i.value]\n",
    "\n",
    "cl  # 結果を表示"
   ]
  },
  {
   "cell_type": "code",
   "execution_count": null,
   "metadata": {},
   "outputs": [],
   "source": [
    "%matplotlib inline\n",
    "import matplotlib.pyplot as plt   # グラフを描くライブラリをインポート\n",
    "\n",
    "plt.plot(bl)   # B列のグラフ(収入)を描画\n",
    "plt.show()         # グラフを表示"
   ]
  },
  {
   "cell_type": "code",
   "execution_count": null,
   "metadata": {},
   "outputs": [],
   "source": [
    "plt.plot(cl)   # C列のグラフ(利益)を描画\n",
    "plt.show()         # グラフを表示"
   ]
  },
  {
   "cell_type": "code",
   "execution_count": null,
   "metadata": {},
   "outputs": [],
   "source": [
    "bl[0]   # 最初の要素(5年前の売り上げ)"
   ]
  },
  {
   "cell_type": "code",
   "execution_count": null,
   "metadata": {},
   "outputs": [],
   "source": [
    "bl[4]  # 最後の要素(1年前の売り上げ)"
   ]
  },
  {
   "cell_type": "code",
   "execution_count": null,
   "metadata": {},
   "outputs": [],
   "source": [
    "bl[4]-bl[0]   # 5年間の売り上げ差"
   ]
  },
  {
   "cell_type": "code",
   "execution_count": null,
   "metadata": {},
   "outputs": [],
   "source": [
    "cl[0]/bl[0]   # 利益率を計算"
   ]
  },
  {
   "cell_type": "code",
   "execution_count": null,
   "metadata": {},
   "outputs": [],
   "source": [
    "# 利益率を計算，表示\n",
    "\n",
    "for idx in range(len(bl)):  # blの長さ分ループを回す\n",
    "    rate = cl[idx]/bl[idx]  # 利益率(利益/売り上げ)を計算\n",
    "    print(rate*100)   # 利益率を表示(バーセンテージ)"
   ]
  },
  {
   "cell_type": "code",
   "execution_count": null,
   "metadata": {},
   "outputs": [],
   "source": [
    "# 利益率をリストに溜める\n",
    "dl = []\n",
    "\n",
    "for idx in range(len(bl)):  # blの長さ分ループを回す\n",
    "    rate = cl[idx]/bl[idx]  # 利益率(利益/売り上げ)を計算\n",
    "    dl = dl + [rate*100]\n",
    "\n",
    "dl    # 結果を表示"
   ]
  },
  {
   "cell_type": "code",
   "execution_count": null,
   "metadata": {
    "scrolled": true
   },
   "outputs": [],
   "source": [
    "plt.plot(dl)   # 利益率のグラフを描画\n",
    "plt.show()         # グラフを表示"
   ]
  },
  {
   "cell_type": "code",
   "execution_count": null,
   "metadata": {},
   "outputs": [],
   "source": [
    "# D列に利益率を書き込む\n",
    "cnt = 0   # 利益率のリストから値を取り込むときに使うカウンタ\n",
    "\n",
    "for c in ws[\"D3\":\"D7\"]:\n",
    "  for i in c:\n",
    "    i.value = dl[cnt]\n",
    "    cnt = cnt + 1   # カウンタに1を足す\n",
    "\n"
   ]
  },
  {
   "cell_type": "code",
   "execution_count": null,
   "metadata": {},
   "outputs": [],
   "source": [
    "# 変更した結果をファイルに保存する\n",
    "wb.save(\"newfile.xlsx\")"
   ]
  },
  {
   "cell_type": "code",
   "execution_count": null,
   "metadata": {},
   "outputs": [],
   "source": []
  }
 ],
 "metadata": {
  "kernelspec": {
   "display_name": "Python 3",
   "language": "python",
   "name": "python3"
  },
  "language_info": {
   "codemirror_mode": {
    "name": "ipython",
    "version": 3
   },
   "file_extension": ".py",
   "mimetype": "text/x-python",
   "name": "python",
   "nbconvert_exporter": "python",
   "pygments_lexer": "ipython3",
   "version": "3.7.3"
  }
 },
 "nbformat": 4,
 "nbformat_minor": 2
}
