{
 "cells": [
  {
   "cell_type": "markdown",
   "metadata": {},
   "source": [
    "# 3.データの表現"
   ]
  },
  {
   "cell_type": "markdown",
   "metadata": {},
   "source": [
    "## 文字と文字列"
   ]
  },
  {
   "cell_type": "code",
   "execution_count": null,
   "metadata": {},
   "outputs": [],
   "source": [
    "\"a\"        # 文字\n",
    "a = 10  # c.f. 変数"
   ]
  },
  {
   "cell_type": "code",
   "execution_count": null,
   "metadata": {},
   "outputs": [],
   "source": [
    "c = \"a\"  # 文字を変数に代入"
   ]
  },
  {
   "cell_type": "code",
   "execution_count": null,
   "metadata": {},
   "outputs": [],
   "source": [
    "ord(c)   # 関数を使って，文字に割り当てられた数値を計算する(変換)"
   ]
  },
  {
   "cell_type": "code",
   "execution_count": null,
   "metadata": {},
   "outputs": [],
   "source": [
    "c = \"b\"   # 数字はアルファベット順に並んでいる\n",
    "ord(c)"
   ]
  },
  {
   "cell_type": "code",
   "execution_count": null,
   "metadata": {},
   "outputs": [],
   "source": [
    "chr(98)   # 数値に割り当てられた文字を計算する(変換)"
   ]
  },
  {
   "cell_type": "code",
   "execution_count": null,
   "metadata": {},
   "outputs": [],
   "source": [
    "s = \"abcde\"   # 複数の文字(文字列)\n",
    "js = \"日本語の文字列\""
   ]
  },
  {
   "cell_type": "markdown",
   "metadata": {},
   "source": [
    "## シーザー暗号\n",
    "\n",
    "文字を「ずらして」別の文字に変える暗号。"
   ]
  },
  {
   "cell_type": "code",
   "execution_count": null,
   "metadata": {},
   "outputs": [],
   "source": [
    "p = \"a\"  # 暗号化する文字(平文)\n",
    "pn = ord(p)   # 文字を数値に変換\n",
    "pn = pn + 3   # 3足す\n",
    "chr(pn)  # 足した数値を文字に再変換"
   ]
  },
  {
   "cell_type": "code",
   "execution_count": null,
   "metadata": {},
   "outputs": [],
   "source": [
    "p = \"x\"  # 暗号化する文字(平文)\n",
    "pn = ord(p)   # 文字を数値に変換\n",
    "pn = pn + 3   # 3足す\n",
    "\n",
    "chr(pn)  # 足した数値を文字に再変換"
   ]
  },
  {
   "cell_type": "code",
   "execution_count": null,
   "metadata": {},
   "outputs": [],
   "source": [
    "p = \"x\"  # 暗号化する文字(平文)\n",
    "pn = ord(p)   # 文字を数値に変換\n",
    "# 割り算の余りを使い，a〜zに収まるように工夫する\n",
    "pn = (((pn - 97) + 3) % 26) + 97\n",
    "chr(pn)  # 足した数値を文字に再変換"
   ]
  },
  {
   "cell_type": "code",
   "execution_count": null,
   "metadata": {},
   "outputs": [],
   "source": [
    "# 関数にする\n",
    "def  caesar(p):\n",
    "    pn = ord(p)   # 文字を数値に変換\n",
    "    # 割り算の余りを使い，a〜zに収まるように工夫する\n",
    "    pn = (((pn - 97) + 3) % 26) + 97\n",
    "    e = chr(pn)  # 足した数値を文字に再変換 \n",
    "    return e  # 結果を返す"
   ]
  },
  {
   "cell_type": "code",
   "execution_count": null,
   "metadata": {},
   "outputs": [],
   "source": [
    "caesar(\"a\")"
   ]
  },
  {
   "cell_type": "code",
   "execution_count": null,
   "metadata": {},
   "outputs": [],
   "source": [
    "caesar(\"x\")"
   ]
  },
  {
   "cell_type": "code",
   "execution_count": null,
   "metadata": {},
   "outputs": [],
   "source": [
    "# ずらす数(n)も指定できるようにする\n",
    "def  caesar2(p, n):\n",
    "    pn = ord(p)   # 文字を数値に変換\n",
    "    # 割り算の余りを使い，a〜zに収まるように工夫する\n",
    "    pn = (((pn - 97) + n) % 26) + 97\n",
    "    e = chr(pn)  # 足した数値を文字に再変換 \n",
    "    return e  # 結果を返す"
   ]
  },
  {
   "cell_type": "code",
   "execution_count": null,
   "metadata": {},
   "outputs": [],
   "source": [
    "caesar2(\"a\", 3)   # 暗号化"
   ]
  },
  {
   "cell_type": "code",
   "execution_count": null,
   "metadata": {},
   "outputs": [],
   "source": [
    "caesar2(\"d\", -3)   # 復号化"
   ]
  },
  {
   "cell_type": "code",
   "execution_count": null,
   "metadata": {},
   "outputs": [],
   "source": [
    "caesar2(\"x\", -3)   # 復号化"
   ]
  },
  {
   "cell_type": "markdown",
   "metadata": {},
   "source": [
    "## 文字列とループ"
   ]
  },
  {
   "cell_type": "code",
   "execution_count": null,
   "metadata": {},
   "outputs": [],
   "source": [
    "s = \"brutus\"  # 文字列を変数に代入\n",
    "\n",
    "for i in s:   # 文字を一文字ずつ取り出す\n",
    "    print(i)   # 取り出した文字を縦一列に表示する"
   ]
  },
  {
   "cell_type": "code",
   "execution_count": null,
   "metadata": {},
   "outputs": [],
   "source": [
    "# 文字列を暗号化\n",
    "s = \"brutus\"  # 文字列を変数に代入\n",
    "\n",
    "for i in s:   # 文字を一文字ずつ取り出す\n",
    "    e = caesar2(i, 3)   # 取り出した文字を暗号化して代入\n",
    "    print(e)   # 暗号化した文字を表示"
   ]
  },
  {
   "cell_type": "markdown",
   "metadata": {},
   "source": [
    "## 文字列の足し算"
   ]
  },
  {
   "cell_type": "code",
   "execution_count": null,
   "metadata": {},
   "outputs": [],
   "source": [
    "a = \"a\"  # 変数に文字列を定義\n",
    "b = \"b\"\n",
    "c = a + b   # 二つの文字列を足す\n",
    "print(c)   # 結果を表示"
   ]
  },
  {
   "cell_type": "markdown",
   "metadata": {},
   "source": [
    "## 空の文字列"
   ]
  },
  {
   "cell_type": "code",
   "execution_count": null,
   "metadata": {},
   "outputs": [],
   "source": [
    "a = \"abc\"\n",
    "b = \"\"   # 空の文字列(長さゼロの文字列)\n",
    "c = a + b\n",
    "print(c)   # 足しても変わらない"
   ]
  },
  {
   "cell_type": "code",
   "execution_count": null,
   "metadata": {},
   "outputs": [],
   "source": [
    "# 暗号を文字列として足して作る\n",
    "s = \"brutus\"  # 文字列を変数に代入\n",
    "e = \"\"   # 暗号文を足して行く文字列\n",
    "\n",
    "for i in s:   # 文字を一文字ずつ取り出す\n",
    "    e = e + caesar2(i, 3)   # 取り出した文字を暗号化して代入"
   ]
  },
  {
   "cell_type": "code",
   "execution_count": null,
   "metadata": {},
   "outputs": [],
   "source": [
    "print(e)"
   ]
  },
  {
   "cell_type": "code",
   "execution_count": null,
   "metadata": {},
   "outputs": [],
   "source": [
    "# 文字列を扱えるシーザー暗号の関数を作る\n",
    "def caesar3(s, n): # 「文字列」と「ずらす数」の2つのデータを受け取る\n",
    "    e = \"\"   # 変換した文字列を足して行く文字列\n",
    "\n",
    "    for i in s:   # 文字を一文字ずつ取り出す\n",
    "        e = e + caesar2(i, n)   # 取り出した文字を暗号化して代入\n",
    "    return e   # 変換した文字列を結果として返す"
   ]
  },
  {
   "cell_type": "code",
   "execution_count": null,
   "metadata": {},
   "outputs": [],
   "source": [
    "e = caesar3(\"brutus\", 3)\n",
    "print(e)   # 暗号文を表示"
   ]
  },
  {
   "cell_type": "code",
   "execution_count": null,
   "metadata": {},
   "outputs": [],
   "source": [
    "print(caesar3(e, -3))  # 復号化"
   ]
  },
  {
   "cell_type": "markdown",
   "metadata": {},
   "source": [
    "## シーザー暗号を解く"
   ]
  },
  {
   "cell_type": "code",
   "execution_count": null,
   "metadata": {},
   "outputs": [],
   "source": [
    "e = \"udymts\"  # 謎の暗号文"
   ]
  },
  {
   "cell_type": "code",
   "execution_count": null,
   "metadata": {},
   "outputs": [],
   "source": [
    "caesar3(e, -1)"
   ]
  },
  {
   "cell_type": "code",
   "execution_count": null,
   "metadata": {},
   "outputs": [],
   "source": [
    "# 総当たりで暗号を解く\n",
    "for i in range(-25, 0):  # -25から-1まで繰り返し\n",
    "    p = caesar3(e, i)  # 鍵を与えて暗号を解く\n",
    "    print(i, p)  # 鍵と復号文を表示"
   ]
  },
  {
   "cell_type": "markdown",
   "metadata": {},
   "source": [
    "## リスト\n",
    "\n",
    "リストとは，複数のデータを列記したデータ型。"
   ]
  },
  {
   "cell_type": "code",
   "execution_count": null,
   "metadata": {},
   "outputs": [],
   "source": [
    "# アルファベットの小文字をすべてリストを変数に代入\n",
    "al = ['a', 'b', 'c', 'd', 'e', 'f', 'g', 'h', 'i', 'j', 'k', 'l', 'm', 'n', 'o', 'p', 'q', 'r', 's', 't', 'u', 'v', 'w', 'x', 'y', 'z']"
   ]
  },
  {
   "cell_type": "code",
   "execution_count": null,
   "metadata": {},
   "outputs": [],
   "source": [
    "al[0]   # インデックス(数値)を使って要素を取り出す"
   ]
  },
  {
   "cell_type": "code",
   "execution_count": null,
   "metadata": {},
   "outputs": [],
   "source": [
    "a = \"a\"\n",
    "ord(a)"
   ]
  },
  {
   "cell_type": "code",
   "execution_count": null,
   "metadata": {},
   "outputs": [],
   "source": [
    "# このリストを使うと，アルファベットと\n",
    "# 0から始まる数値を対応づけることができる\n",
    "a = \"b\"\n",
    "al[ord(a)-97]"
   ]
  },
  {
   "cell_type": "markdown",
   "metadata": {},
   "source": [
    "##  換え字暗号"
   ]
  },
  {
   "cell_type": "code",
   "execution_count": null,
   "metadata": {},
   "outputs": [],
   "source": [
    "# アルファベットをバラバラにしたリストを定義\n",
    "# 換字テーブル\n",
    "t = ['i', 'w', 'p', 'q', 'c', 'l', 'd', 'a', 'z', 'v', 'e', 'u', 'o', 'y', 'j', 'b', 'h', 't', 'k', 'n', 'r', 'x', 'f', 'g', 'm', 's']"
   ]
  },
  {
   "cell_type": "code",
   "execution_count": null,
   "metadata": {},
   "outputs": [],
   "source": [
    "# 換字の結果を得る\n",
    "a = \"c\"\n",
    "t[ord(a)-97]"
   ]
  },
  {
   "cell_type": "code",
   "execution_count": null,
   "metadata": {},
   "outputs": [],
   "source": [
    "# ある文字列が換え字テーブルの何番目かを調べる関数を作る\n",
    "def index(t, s):   # tは換字テーブル，sは調べる文字\n",
    "    for i in range(0, 26):\n",
    "        if s == t[i]:\n",
    "            return i"
   ]
  },
  {
   "cell_type": "code",
   "execution_count": null,
   "metadata": {},
   "outputs": [],
   "source": [
    "index(t, \"p\")"
   ]
  },
  {
   "cell_type": "code",
   "execution_count": null,
   "metadata": {},
   "outputs": [],
   "source": [
    "index(t, \"s\")"
   ]
  },
  {
   "cell_type": "code",
   "execution_count": null,
   "metadata": {},
   "outputs": [],
   "source": [
    "# 換字テーブルを使って文字列を暗号化する関数\n",
    "def encrypt_ssc(p, t): # pは平文の文字列，tは換字テーブル\n",
    "    e = \"\" # 暗号文を初期化\n",
    "    for i in p:  # 平文でループ\n",
    "        n = ord(i)-97   # Aからの順番を計算\n",
    "        e = e+t[n]  # 対応表を使って置き換え\n",
    "    return e"
   ]
  },
  {
   "cell_type": "code",
   "execution_count": null,
   "metadata": {},
   "outputs": [],
   "source": [
    "encrypt_ssc(\"python\", t)"
   ]
  },
  {
   "cell_type": "code",
   "execution_count": null,
   "metadata": {},
   "outputs": [],
   "source": [
    "# 換字テーブルを使って暗号文を復号化する関数\n",
    "def decrypt_ssc(e, t): # eは暗号文の文字列，tは換字テーブル\n",
    "    # 単一換字暗号で復号化する関数\n",
    "    p = \"\" # 復号化する平文を初期化\n",
    "    for i in e:  # 暗号文でループ\n",
    "        n = index(t, i)  # 対応表のインデックスに変換\n",
    "        p = p+chr(n+97)  # 文字を復号化\n",
    "    return p"
   ]
  },
  {
   "cell_type": "code",
   "execution_count": null,
   "metadata": {},
   "outputs": [],
   "source": [
    "decrypt_ssc(\"bmnajy\", t)"
   ]
  },
  {
   "cell_type": "code",
   "execution_count": null,
   "metadata": {},
   "outputs": [],
   "source": []
  }
 ],
 "metadata": {
  "kernelspec": {
   "display_name": "Python 3",
   "language": "python",
   "name": "python3"
  },
  "language_info": {
   "codemirror_mode": {
    "name": "ipython",
    "version": 3
   },
   "file_extension": ".py",
   "mimetype": "text/x-python",
   "name": "python",
   "nbconvert_exporter": "python",
   "pygments_lexer": "ipython3",
   "version": "3.7.3"
  }
 },
 "nbformat": 4,
 "nbformat_minor": 2
}
